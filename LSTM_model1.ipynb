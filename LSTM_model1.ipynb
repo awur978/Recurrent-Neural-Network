{
 "cells": [
  {
   "cell_type": "code",
   "execution_count": 1,
   "metadata": {},
   "outputs": [
    {
     "name": "stderr",
     "output_type": "stream",
     "text": [
      "Using TensorFlow backend.\n"
     ]
    }
   ],
   "source": [
    "#from https://machinelearningmastery.com/sequence-classification-lstm-recurrent-neural-networks-python-keras/\n",
    "import numpy as np\n",
    "from keras.datasets import imdb\n",
    "from keras.models import Sequential\n",
    "from keras.layers import Dense, LSTM\n",
    "from keras.layers.embeddings import Embedding \n",
    "from keras.preprocessing import sequence\n",
    "import keras\n",
    "from keras.utils.generic_utils import get_custom_objects\n",
    "from keras.layers import Activation\n",
    "import tensorflow as tf"
   ]
  },
  {
   "cell_type": "code",
   "execution_count": 2,
   "metadata": {},
   "outputs": [],
   "source": [
    "#reproducibility\n",
    "from keras import backend as K\n",
    "import os\n",
    "import random as rn\n",
    "os.environ['PYTHONHASHSEED'] ='0'\n",
    "#Below is necessary for starting Numpy generated \n",
    "#random numbers in a well-defined initial state\n",
    "np.random.seed(42)\n",
    "\n",
    "#Below is necessary for starting core Python generated \n",
    "#random numbers in a well-defined initial state\n",
    "rn.seed(12345)\n",
    "'''force tensorflow to use single thread\n",
    "   multiple threads are the potential source\n",
    "   of non-reproducible results\n",
    "'''\n",
    "session_conf = tf.ConfigProto(intra_op_parallelism_threads=1, inter_op_parallelism_threads=1)\n",
    "#The below tf.set_random_seed() will make random number generation in\n",
    "#Tensorflow backend have well defined initial state\n",
    "tf.set_random_seed(1234)\n",
    "sess = tf.Session(graph=tf.get_default_graph(), config=session_conf)\n",
    "K.set_session(sess)"
   ]
  },
  {
   "cell_type": "code",
   "execution_count": 3,
   "metadata": {},
   "outputs": [],
   "source": [
    "#Define activation functions\n",
    "def tf_sqnlsig(x):\n",
    "    u=tf.clip_by_value(x,-2,2)\n",
    "    a = u\n",
    "    b= tf.negative(tf.abs(u))\n",
    "    wsq = (tf.multiply(a,b))/4.0\n",
    "    y = tf.add(tf.multiply(tf.add(u,wsq),0.5),0.5)\n",
    "    return y\n",
    "get_custom_objects().update({'custom_activation': Activation(tf_sqnlsig)})\n",
    "def tf_sqnl(x): \n",
    "    u=tf.clip_by_value(x,-2,2)\n",
    "    a = u\n",
    "    b= tf.negative(tf.abs(u))\n",
    "    wsq = (tf.multiply(a,b))/4.0\n",
    "    y = tf.add(u,wsq)\n",
    "    return y\n",
    "get_custom_objects().update({'custom_activation': Activation(tf_sqnl)})\n",
    "\n",
    "def tf_tansig(x): \n",
    "    w=tf.multiply(tf.negative(2.0), x)\n",
    "    u=tf.exp(w)\n",
    "    a = 1.0 + u\n",
    "    b= 2.0/a\n",
    "    y = b - 1.0\n",
    "    return y\n",
    "get_custom_objects().update({'custom_activation': Activation(tf_tansig)})\n",
    "\n",
    "def tf_logsig(x): \n",
    "    u=tf.exp(tf.negative(x)) \n",
    "    a = tf.add(u,1.0)\n",
    "    y= 1.0/a\n",
    "    return y\n",
    "get_custom_objects().update({'custom_activation': Activation(tf_logsig)})"
   ]
  },
  {
   "cell_type": "code",
   "execution_count": 5,
   "metadata": {},
   "outputs": [],
   "source": [
    "#load data\n",
    "top_words = 5000 #only keep the top 5000 words, zero for the rest\n",
    "(x_train, y_train), (x_test,y_test) = imdb.load_data(num_words=top_words)"
   ]
  },
  {
   "cell_type": "code",
   "execution_count": 6,
   "metadata": {},
   "outputs": [],
   "source": [
    "#truncate and pad input sequence to perform computation in Keras\n",
    "max_review_length = 500\n",
    "x_train = sequence.pad_sequences(x_train,maxlen=max_review_length)\n",
    "x_test = sequence.pad_sequences(x_test,maxlen=max_review_length)"
   ]
  },
  {
   "cell_type": "code",
   "execution_count": 14,
   "metadata": {},
   "outputs": [
    {
     "name": "stdout",
     "output_type": "stream",
     "text": [
      "_________________________________________________________________\n",
      "Layer (type)                 Output Shape              Param #   \n",
      "=================================================================\n",
      "embedding_5 (Embedding)      (None, 500, 32)           160000    \n",
      "_________________________________________________________________\n",
      "lstm_5 (LSTM)                (None, 100)               53200     \n",
      "_________________________________________________________________\n",
      "dense_5 (Dense)              (None, 1)                 101       \n",
      "=================================================================\n",
      "Total params: 213,301\n",
      "Trainable params: 213,301\n",
      "Non-trainable params: 0\n",
      "_________________________________________________________________\n",
      "None\n",
      "Train on 25000 samples, validate on 25000 samples\n",
      "Epoch 1/2\n",
      "25000/25000 [==============================] - 604s 24ms/step - loss: 0.4882 - acc: 0.7616 - val_loss: 0.4121 - val_acc: 0.8265\n",
      "Epoch 2/2\n",
      "25000/25000 [==============================] - 616s 25ms/step - loss: 0.2976 - acc: 0.8798 - val_loss: 0.3199 - val_acc: 0.8689\n"
     ]
    },
    {
     "data": {
      "text/plain": [
       "<keras.callbacks.History at 0x1314ba780>"
      ]
     },
     "execution_count": 14,
     "metadata": {},
     "output_type": "execute_result"
    }
   ],
   "source": [
    "# create the model\n",
    "#Embedding : first layer uses 32 length vectors to represent each word\n",
    "embedding_vecor_length = 32\n",
    "model = Sequential()\n",
    "#input layer\n",
    "model.add(Embedding(top_words, embedding_vecor_length, input_length=max_review_length))\n",
    "#model.add(Dropout(0.5))\n",
    "#LSTM layer\n",
    "#keras.layers.LSTM(units, activation='tanh', recurrent_activation='hard_sigmoid'\n",
    "#model.add(LSTM(100)) #number of neurons = 100\n",
    "#model.add(keras.layers.LSTM(100 , activation='tanh', recurrent_activation='sigmoid'))\n",
    "model.add(keras.layers.LSTM(100 , activation=tf_sqnl, recurrent_activation=tf_sqnlsig))\n",
    "#model.add(keras.layers.LSTM(100 , activation=tf_tansig, recurrent_activation=tf_logsig))\n",
    "#model.add(Dropout(0.5))\n",
    "#model.add(Dense(1, activation='sigmoid'))\n",
    "#output layer\n",
    "#model.add(Dense(1, activation='sigmoid'))\n",
    "#model.add(Dense(1, activation=tf_logsig))\n",
    "model.add(Dense(1, activation=tf_sqnlsig))\n",
    "model.compile(loss='binary_crossentropy', optimizer='adam', metrics=['accuracy'])\n",
    "print(model.summary())\n",
    "model.fit(x_train, y_train, validation_data=(x_test, y_test), epochs=2, batch_size=64)"
   ]
  },
  {
   "cell_type": "code",
   "execution_count": null,
   "metadata": {},
   "outputs": [],
   "source": [
    "# Final evaluation of the model\n",
    "scores = model.evaluate(x_test, y_test, verbose=0)\n",
    "print(\"Accuracy: %.2f%%\" % (scores[1]*100))"
   ]
  },
  {
   "cell_type": "code",
   "execution_count": null,
   "metadata": {},
   "outputs": [],
   "source": []
  }
 ],
 "metadata": {
  "kernelspec": {
   "display_name": "Python 3",
   "language": "python",
   "name": "python3"
  },
  "language_info": {
   "codemirror_mode": {
    "name": "ipython",
    "version": 3
   },
   "file_extension": ".py",
   "mimetype": "text/x-python",
   "name": "python",
   "nbconvert_exporter": "python",
   "pygments_lexer": "ipython3",
   "version": "3.6.1"
  }
 },
 "nbformat": 4,
 "nbformat_minor": 2
}
